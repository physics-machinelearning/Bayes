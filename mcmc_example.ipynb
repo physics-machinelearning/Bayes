{
 "nbformat": 4,
 "nbformat_minor": 2,
 "metadata": {
  "language_info": {
   "name": "python",
   "codemirror_mode": {
    "name": "ipython",
    "version": 3
   },
   "version": "3.7.2-final"
  },
  "orig_nbformat": 2,
  "file_extension": ".py",
  "mimetype": "text/x-python",
  "name": "python",
  "npconvert_exporter": "python",
  "pygments_lexer": "ipython3",
  "version": 3,
  "kernelspec": {
   "name": "python37264bitbaseconda864be0d2da874bd6be8d812b1fa9f57a",
   "display_name": "Python 3.7.2 64-bit ('base': conda)"
  }
 },
 "cells": [
  {
   "cell_type": "markdown",
   "execution_count": 8,
   "metadata": {},
   "outputs": [],
   "source": [
    "# Metropolis Hastings"
   ]
  },
  {
   "cell_type": "code",
   "execution_count": 1,
   "metadata": {},
   "outputs": [
    {
     "ename": "NameError",
     "evalue": "name 'T' is not defined",
     "output_type": "error",
     "traceback": [
      "\u001b[0;31m---------------------------------------------------------------------------\u001b[0m",
      "\u001b[0;31mNameError\u001b[0m                                 Traceback (most recent call last)",
      "\u001b[0;32m<ipython-input-1-a6c632b03455>\u001b[0m in \u001b[0;36m<module>\u001b[0;34m()\u001b[0m\n\u001b[1;32m      5\u001b[0m \u001b[0mepsilon\u001b[0m \u001b[0;34m=\u001b[0m \u001b[0;36m0.3\u001b[0m\u001b[0;34m\u001b[0m\u001b[0;34m\u001b[0m\u001b[0m\n\u001b[1;32m      6\u001b[0m \u001b[0;34m\u001b[0m\u001b[0m\n\u001b[0;32m----> 7\u001b[0;31m \u001b[0mmh\u001b[0m \u001b[0;34m=\u001b[0m \u001b[0mMetropolisHastings\u001b[0m\u001b[0;34m(\u001b[0m\u001b[0mepsilon\u001b[0m\u001b[0;34m=\u001b[0m\u001b[0mepsilon\u001b[0m\u001b[0;34m,\u001b[0m \u001b[0mtheta\u001b[0m\u001b[0;34m=\u001b[0m\u001b[0mtheta\u001b[0m\u001b[0;34m,\u001b[0m \u001b[0mNMCS\u001b[0m\u001b[0;34m=\u001b[0m\u001b[0mT\u001b[0m\u001b[0;34m*\u001b[0m\u001b[0mL\u001b[0m\u001b[0;34m,\u001b[0m \u001b[0mf\u001b[0m\u001b[0;34m=\u001b[0m\u001b[0mf_gamma\u001b[0m\u001b[0;34m)\u001b[0m\u001b[0;34m\u001b[0m\u001b[0;34m\u001b[0m\u001b[0m\n\u001b[0m\u001b[1;32m      8\u001b[0m \u001b[0mmh\u001b[0m\u001b[0;34m.\u001b[0m\u001b[0mloop\u001b[0m\u001b[0;34m(\u001b[0m\u001b[0;34m)\u001b[0m\u001b[0;34m\u001b[0m\u001b[0;34m\u001b[0m\u001b[0m\n\u001b[1;32m      9\u001b[0m \u001b[0mmh\u001b[0m\u001b[0;34m.\u001b[0m\u001b[0mplot\u001b[0m\u001b[0;34m(\u001b[0m\u001b[0;34m)\u001b[0m\u001b[0;34m\u001b[0m\u001b[0;34m\u001b[0m\u001b[0m\n",
      "\u001b[0;31mNameError\u001b[0m: name 'T' is not defined"
     ]
    }
   ],
   "source": [
    "from markov_chain_monte_carlo import MetropolisHastings\n",
    "from distribution import f_gamma\n",
    "\n",
    "theta = 10\n",
    "epsilon = 0.3\n",
    "\n",
    "mh = MetropolisHastings(epsilon=epsilon, theta=theta, NMCS=T*L, f=f_gamma)\n",
    "mh.loop()\n",
    "mh.plot()"
   ]
  },
  {
   "cell_type": "markdown",
   "execution_count": null,
   "metadata": {},
   "outputs": [],
   "source": [
    "# Hamiltonian Monte Carlo "
   ]
  },
  {
   "cell_type": "code",
   "execution_count": 0,
   "metadata": {},
   "outputs": [],
   "source": [
    "from markov_chain_monte_carlo import HamiltonianMonteCarlo\n",
    "from distribution import f_gamma, h_gamma, dhdtheta_gamma\n",
    "\n",
    "epsilon = 0.01\n",
    "T = 10000\n",
    "L = 100\n",
    "theta = 3.0\n",
    "\n",
    "hmc = HamiltonianMonteCarlo(epsilon=epsilon, T=T, L=L, theta=theta, f=f_gamma, h=h_gamma, dhdtheta=dhdtheta_gamma)\n",
    "hmc.loop()\n",
    "hmc.plot()"
   ]
  },
  {
   "cell_type": "markdown",
   "execution_count": 5,
   "metadata": {},
   "outputs": [],
   "source": [
    "# Replica Exchange Method"
   ]
  },
  {
   "cell_type": "code",
   "execution_count": 0,
   "metadata": {},
   "outputs": [],
   "source": [
    "from markov_chain_monte_carlo import ReplicaExchangeMethod, generate_gm\n",
    "from distribution import generate_gm\n",
    "\n",
    "# Make gausian mixture distribution\n",
    "mu_list = [-3, 3]\n",
    "sigma = 1\n",
    "f_prob = generate_gm(mu_list, sigma)\n",
    "\n",
    "# Set parameter for replica exchange method\n",
    "epsilon = 0.3\n",
    "e_freq = 100\n",
    "NMCS = 10000\n",
    "num_chain = 10\n",
    "x_min = min(mu_list)\n",
    "x_max = max(mu_list)\n",
    "    \n",
    "re_ex = ReplicaExchangeMethod(f_prob, epsilon, x_min, x_max, NMCS, e_freq, num_chain)\n",
    "re_ex.loop()\n",
    "re_ex.plot()"
   ]
  }
 ]
}